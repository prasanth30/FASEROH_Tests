{
 "cells": [
  {
   "cell_type": "code",
   "execution_count": 1,
   "id": "877d6f64",
   "metadata": {
    "execution": {
     "iopub.execute_input": "2025-04-08T09:21:45.626944Z",
     "iopub.status.busy": "2025-04-08T09:21:45.626590Z",
     "iopub.status.idle": "2025-04-08T09:21:45.632430Z",
     "shell.execute_reply": "2025-04-08T09:21:45.631221Z"
    },
    "papermill": {
     "duration": 0.018872,
     "end_time": "2025-04-08T09:21:45.633983",
     "exception": false,
     "start_time": "2025-04-08T09:21:45.615111",
     "status": "completed"
    },
    "tags": []
   },
   "outputs": [],
   "source": [
    "class CFG:\n",
    "    data_size = 15000\n",
    "    max_num_ops = 8\n",
    "    max_integer = 1"
   ]
  },
  {
   "cell_type": "code",
   "execution_count": null,
   "id": "56ef5ab3",
   "metadata": {
    "papermill": {
     "duration": 0.008941,
     "end_time": "2025-04-08T09:21:45.652702",
     "exception": false,
     "start_time": "2025-04-08T09:21:45.643761",
     "status": "completed"
    },
    "tags": []
   },
   "outputs": [],
   "source": []
  },
  {
   "cell_type": "markdown",
   "id": "f939acb6",
   "metadata": {
    "papermill": {
     "duration": 0.008875,
     "end_time": "2025-04-08T09:21:45.670950",
     "exception": false,
     "start_time": "2025-04-08T09:21:45.662075",
     "status": "completed"
    },
    "tags": []
   },
   "source": [
    "# Imports"
   ]
  },
  {
   "cell_type": "code",
   "execution_count": 2,
   "id": "0f8c919f",
   "metadata": {
    "execution": {
     "iopub.execute_input": "2025-04-08T09:21:45.690498Z",
     "iopub.status.busy": "2025-04-08T09:21:45.690110Z",
     "iopub.status.idle": "2025-04-08T09:21:53.992853Z",
     "shell.execute_reply": "2025-04-08T09:21:53.991456Z"
    },
    "papermill": {
     "duration": 8.314922,
     "end_time": "2025-04-08T09:21:53.994980",
     "exception": false,
     "start_time": "2025-04-08T09:21:45.680058",
     "status": "completed"
    },
    "tags": []
   },
   "outputs": [
    {
     "name": "stdout",
     "output_type": "stream",
     "text": [
      "  Preparing metadata (setup.py) ... \u001b[?25l\u001b[?25hdone\r\n",
      "  Building wheel for interruptingcow (setup.py) ... \u001b[?25l\u001b[?25hdone\r\n"
     ]
    }
   ],
   "source": [
    "!pip install -q interruptingcow"
   ]
  },
  {
   "cell_type": "code",
   "execution_count": 3,
   "id": "5912c748",
   "metadata": {
    "execution": {
     "iopub.execute_input": "2025-04-08T09:21:54.015589Z",
     "iopub.status.busy": "2025-04-08T09:21:54.015183Z",
     "iopub.status.idle": "2025-04-08T09:21:54.987501Z",
     "shell.execute_reply": "2025-04-08T09:21:54.986237Z"
    },
    "papermill": {
     "duration": 0.984783,
     "end_time": "2025-04-08T09:21:54.989538",
     "exception": false,
     "start_time": "2025-04-08T09:21:54.004755",
     "status": "completed"
    },
    "tags": []
   },
   "outputs": [],
   "source": [
    "import numpy as np\n",
    "import pandas as pd\n",
    "import matplotlib.pyplot as plt\n",
    "\n",
    "from dataclasses import dataclass\n",
    "from typing import List, Tuple"
   ]
  },
  {
   "cell_type": "code",
   "execution_count": 4,
   "id": "12523e3b",
   "metadata": {
    "_cell_guid": "b1076dfc-b9ad-4769-8c92-a6c4dae69d19",
    "_uuid": "8f2839f25d086af736a60e9eeb907d3b93b6e0e5",
    "execution": {
     "iopub.execute_input": "2025-04-08T09:21:55.010772Z",
     "iopub.status.busy": "2025-04-08T09:21:55.010205Z",
     "iopub.status.idle": "2025-04-08T09:21:57.961316Z",
     "shell.execute_reply": "2025-04-08T09:21:57.960110Z"
    },
    "papermill": {
     "duration": 2.963795,
     "end_time": "2025-04-08T09:21:57.963397",
     "exception": false,
     "start_time": "2025-04-08T09:21:54.999602",
     "status": "completed"
    },
    "tags": []
   },
   "outputs": [],
   "source": [
    "\n",
    "\n",
    "import sympy\n",
    "\n",
    "from sympy import expand\n",
    "from sympy import sympify\n",
    "from sympy import series\n",
    "from sympy import Symbol, symbols\n",
    "from sympy import im, I\n",
    "\n",
    "from tqdm import tqdm"
   ]
  },
  {
   "cell_type": "code",
   "execution_count": null,
   "id": "861b3812",
   "metadata": {
    "papermill": {
     "duration": 0.009376,
     "end_time": "2025-04-08T09:21:57.982571",
     "exception": false,
     "start_time": "2025-04-08T09:21:57.973195",
     "status": "completed"
    },
    "tags": []
   },
   "outputs": [],
   "source": []
  },
  {
   "cell_type": "markdown",
   "id": "79c04378",
   "metadata": {
    "papermill": {
     "duration": 0.009384,
     "end_time": "2025-04-08T09:21:58.001348",
     "exception": false,
     "start_time": "2025-04-08T09:21:57.991964",
     "status": "completed"
    },
    "tags": []
   },
   "source": [
    "# Generate Expressions and their Taylor expansion"
   ]
  },
  {
   "cell_type": "code",
   "execution_count": 5,
   "id": "34276aaa",
   "metadata": {
    "execution": {
     "iopub.execute_input": "2025-04-08T09:21:58.022081Z",
     "iopub.status.busy": "2025-04-08T09:21:58.021578Z",
     "iopub.status.idle": "2025-04-08T09:21:58.058405Z",
     "shell.execute_reply": "2025-04-08T09:21:58.057392Z"
    },
    "papermill": {
     "duration": 0.049424,
     "end_time": "2025-04-08T09:21:58.060166",
     "exception": false,
     "start_time": "2025-04-08T09:21:58.010742",
     "status": "completed"
    },
    "tags": []
   },
   "outputs": [],
   "source": [
    "import pandas as pd\n",
    "import numpy as np\n",
    "import sympy as sp\n",
    "\n",
    "variables = ['x']\n",
    "\n",
    "operators = {\n",
    "    # Elementary functions\n",
    "    sp.Add: 'add',\n",
    "    sp.Mul: 'mul',\n",
    "    sp.Pow: 'pow',\n",
    "    sp.exp: 'exp',\n",
    "    sp.log: 'ln',\n",
    "    sp.Abs: 'abs',\n",
    "    sp.sign: 'sign',\n",
    "#     sp.Sub: 'sub',\n",
    "#     sp.Div: 'div',\n",
    "    # Trigonometric Functions\n",
    "    sp.sin: 'sin',\n",
    "    sp.cos: 'cos',\n",
    "    sp.tan: 'tan',\n",
    "    # sp.cot: 'cot',\n",
    "    sp.sec: 'sec',\n",
    "    sp.csc: 'csc',\n",
    "    # Trigonometric Inverses\n",
    "    sp.asin: 'asin',\n",
    "    sp.acos: 'acos',\n",
    "    # sp.atan: 'atan',\n",
    "    sp.acot: 'acot',\n",
    "    sp.asec: 'asec',\n",
    "    sp.acsc: 'acsc',\n",
    "    # Hyperbolic Functions\n",
    "    sp.sinh: 'sinh',\n",
    "    sp.cosh: 'cosh',\n",
    "    sp.tanh: 'tanh',\n",
    "    sp.coth: 'coth',\n",
    "    sp.sech: 'sech',\n",
    "    sp.csch: 'csch',\n",
    "    # Hyperbolic Inverses\n",
    "    sp.asinh: 'asinh',\n",
    "    sp.acosh: 'acosh',\n",
    "    sp.atanh: 'atanh',\n",
    "    sp.acoth: 'acoth',\n",
    "    sp.asech: 'asech',\n",
    "    sp.acsch: 'acsch',\n",
    "    sp.Min: 'min',\n",
    "    sp.Max: 'max',\n",
    "    # Derivative\n",
    "    sp.Derivative: 'derivative',\n",
    "}\n",
    "\n",
    "operators_inv = {operators[key]: key for key in operators}\n",
    "operators_inv.update({'sub': lambda x, y: x - y,'div': lambda x, y: x / y})\n",
    "operators_inv[\"mul(\"] = sp.Mul\n",
    "operators_inv[\"add(\"] = sp.Add\n",
    "\n",
    "operators_nargs = {\n",
    "    # Elementary functions\n",
    "    'mul(': -1,\n",
    "    'add(': -1,\n",
    "    'add': 2,\n",
    "    'sub': 2,\n",
    "    'mul': 2,\n",
    "    'div': 2,\n",
    "    'pow': 2,\n",
    "    'rac': 2,\n",
    "    'inv': 1,\n",
    "    'pow2': 1,\n",
    "    'pow3': 1,\n",
    "    'pow4': 1,\n",
    "    'pow5': 1,\n",
    "    'sqrt': 1,\n",
    "    'exp': 1,\n",
    "    'ln': 1,\n",
    "    'abs': 1,\n",
    "    'sign': 1,\n",
    "    'max': 2,\n",
    "    'min': 2,\n",
    "    # Trigonometric Functions\n",
    "    'sin': 1,\n",
    "    'cos': 1,\n",
    "    'tan': 1,\n",
    "    'cot': 1,\n",
    "    'sec': 1,\n",
    "    'csc': 1,\n",
    "    # Trigonometric Inverses\n",
    "    'asin': 1,\n",
    "    'acos': 1,\n",
    "    'atan': 1,\n",
    "    'acot': 1,\n",
    "    'asec': 1,\n",
    "    'acsc': 1,\n",
    "    # Hyperbolic Functions\n",
    "    'sinh': 1,\n",
    "    'cosh': 1,\n",
    "    'tanh': 1,\n",
    "    'coth': 1,\n",
    "    'sech': 1,\n",
    "    'csch': 1,\n",
    "    # Hyperbolic Inverses\n",
    "    'asinh': 1,\n",
    "    'acosh': 1,\n",
    "    'atanh': 1,\n",
    "    'acoth': 1,\n",
    "    'asech': 1,\n",
    "    'acsch': 1,\n",
    "    # Derivative\n",
    "    'derivative': 2,\n",
    "}\n",
    "\n",
    "# these will be converted to the numbers format in `format_number`\n",
    "integers_types = [\n",
    "        sp.core.numbers.Integer,\n",
    "        sp.core.numbers.One,\n",
    "        sp.core.numbers.NegativeOne,\n",
    "        sp.core.numbers.Zero,\n",
    "        ]\n",
    "\n",
    "numbers_types = integers_types + [\n",
    "    sp.core.numbers.Rational,\n",
    "    sp.core.numbers.Half,\n",
    "    sp.core.numbers.Exp1,\n",
    "    sp.core.numbers.Pi,\n",
    "    sp.core.numbers.ImaginaryUnit,\n",
    "    sp.core.numbers.Float,\n",
    "]\n",
    "\n",
    "# don't continue evaluating at these, but stop\n",
    "atoms = [\n",
    "    str,\n",
    "    sp.core.symbol.Symbol,\n",
    "    sp.core.numbers.Exp1,\n",
    "    sp.core.numbers.Pi,\n",
    "    sp.core.numbers.ImaginaryUnit,\n",
    "] + numbers_types\n",
    "\n",
    "\n",
    "# Inverse_trig = {\n",
    "#     'arcsin': 'asin',\n",
    "#     'arccos': 'acos',\n",
    "#     'arctan': 'atan',\n",
    "#     'arccot': 'acot',\n",
    "#     'arcsec': 'asec',\n",
    "#     'arccsc': 'acsc',\n",
    "#     'arcsinh': 'asinh',\n",
    "#     'arccosh': 'acosh',\n",
    "#     'arctanh': 'atanh',\n",
    "#     'arccoth': 'acoth',\n",
    "#     'arcsech': 'asech',\n",
    "#     'arccsch': 'acsch',         \n",
    "# }\n",
    "\n",
    "# def chunks(lst, n):\n",
    "#     \"\"\"Yield successive n-sized chunks from lst.\"\"\"\n",
    "#     for i in range(0, len(lst), n):\n",
    "#         yield lst[i : i + n]\n",
    "\n",
    "# class Tokenizer:\n",
    "#     def __init__(self, vocab_path):\n",
    "#         self.vocab_path = vocab_path\n",
    "#         self.word2id = {}\n",
    "#         self.id2word = {}\n",
    "\n",
    "#         with open(vocab_path) as file:\n",
    "#             words = map(lambda x: x.rstrip('\\n'), file.readlines())\n",
    "\n",
    "#         for (n, word) in enumerate(words):\n",
    "#             self.word2id[word] = n\n",
    "#             self.id2word[n] = word \n",
    "\n",
    "#     def encode(self, lst):\n",
    "#         return np.array([[self.word2id[j] for j in i] for i in lst], dtype=np.ushort)\n",
    "\n",
    "#     def decode(self, lst):\n",
    "#         return [[self.id2word[j] for j in i] for i in lst]\n",
    "    \n",
    "\n",
    "def flatten(l, ltypes=(list, tuple)):\n",
    "    \"\"\"\n",
    "    flatten a python list\n",
    "    from http://rightfootin.blogspot.com/2006/09/more-on-python-flatten.html\n",
    "    \"\"\"\n",
    "    ltype = type(l)\n",
    "    l = list(l)\n",
    "    i = 0\n",
    "    while i < len(l):\n",
    "        while isinstance(l[i], ltypes):\n",
    "            if not l[i]:\n",
    "                l.pop(i)\n",
    "                i -= 1\n",
    "                break\n",
    "            else:\n",
    "                l[i:i + 1] = l[i]\n",
    "        i += 1\n",
    "    return ltype(l)\n",
    "\n",
    "def sympy_to_prefix(expression):\n",
    "    \"\"\"\n",
    "    Recursively go from a sympy expression to a prefix notation.\n",
    "    Returns a flat list of tokens.\n",
    "    \"\"\"\n",
    "    return flatten(sympy_to_prefix_rec(expression, []))\n",
    "\n",
    "def sympy_to_prefix_rec(expression, ret):\n",
    "    \"\"\"\n",
    "    Recursively go from a sympy expression to a prefix notation.\n",
    "    The operators all get converted to their names in the array `operators`.\n",
    "    Returns a nested list, where the nesting basically stands for parentheses.\n",
    "    Since in prefix notation with a fixed number of arguments for each function (given in `operators_nargs`),\n",
    "    parentheses are not needed, we can flatten the list later.\n",
    "    \"\"\"\n",
    "    if expression in [sp.core.numbers.Pi, sp.core.numbers.ImaginaryUnit]:\n",
    "        f = expression\n",
    "    else:\n",
    "        f = expression.func\n",
    "    if f in atoms:\n",
    "        if type(expression) in numbers_types:\n",
    "            return ret + format_number(expression)\n",
    "        return ret + [str(expression)]\n",
    "    f_str = operators[f]\n",
    "    f_nargs = operators_nargs[f_str]\n",
    "    args = expression.args\n",
    "    if len(args) == 1 & f_nargs == 1:\n",
    "        ret = ret + [f_str]\n",
    "        return sympy_to_prefix_rec(args[0], ret)\n",
    "    if len(args) == 2:\n",
    "        ret = ret + [f_str, sympy_to_prefix_rec(args[0], []), sympy_to_prefix_rec(args[1], [])]\n",
    "    if len(args) > 2:\n",
    "        args = list(map(lambda x: sympy_to_prefix_rec(x, []), args))\n",
    "        ret = ret + repeat_operator_until_correct_binary(f_str, args)\n",
    "    return ret\n",
    "\n",
    "def repeat_operator_until_correct_binary(op, args, ret=[]):\n",
    "    \"\"\"\n",
    "    sympy is not strict enough with the number of arguments.\n",
    "    E.g. multiply takes a variable number of arguments, but for\n",
    "    prefix notation it needs to ALWAYS have exactly 2 arguments\n",
    "\n",
    "    This function is only for binary operators.\n",
    "\n",
    "    Here I choose the convention as follows:\n",
    "        1 + 2 + 3 --> + 1 + 2 3\n",
    "\n",
    "    This is the same convention as in https://arxiv.org/pdf/1912.01412.pdf\n",
    "    on page 15.\n",
    "\n",
    "    input:\n",
    "        op: in string form as in the list `operators`\n",
    "        args: [arg1, arg2, ...] arguments of the operator, e.c. [1, 2, x**2,\n",
    "                ...]. They can have other things to be evaluated in them\n",
    "        ret: the list you already have. Usually []. Watch out, I think one has to explicitely give [],\n",
    "            otherwise somehow the default value gets mutated, which I find a strange python behavior.\n",
    "    \"\"\"\n",
    "\n",
    "    is_binary = operators_nargs[op] == 2\n",
    "    assert is_binary, \"repeat_operator_until_correct_binary only takes binary operators\"\n",
    "\n",
    "    if len(args) == 0:\n",
    "        return ret\n",
    "    elif len(ret) == 0:\n",
    "        ret = [op] + args[-2:]\n",
    "        args = args[:-2]\n",
    "    else:\n",
    "        ret = [op] + args[-1:] + ret\n",
    "        args = args[:-1]\n",
    "\n",
    "    return repeat_operator_until_correct_binary(op, args, ret)\n",
    "\n",
    "def format_number(number):\n",
    "    if type(number) in integers_types:\n",
    "        return format_integer(number)\n",
    "    elif type(number) == sp.core.numbers.Rational or type(number) == sp.core.numbers.Float:\n",
    "        return format_rational(sp.Rational(number))\n",
    "    elif type(number) == sp.core.numbers.Half:\n",
    "        return format_half()\n",
    "    elif type(number) == sp.core.numbers.Exp1:\n",
    "        return format_exp1()\n",
    "    elif type(number) == sp.core.numbers.Pi:\n",
    "        return format_pi()\n",
    "    elif type(number) == sp.core.numbers.ImaginaryUnit:\n",
    "        return format_imaginary_unit()\n",
    "    else:\n",
    "        raise NotImplementedError\n",
    "        \n",
    "def format_float(number):\n",
    "    return [str(number)]\n",
    "\n",
    "def format_exp1():\n",
    "    return ['E']\n",
    "\n",
    "def format_pi():\n",
    "    return ['pi']\n",
    "\n",
    "def format_imaginary_unit():\n",
    "    return ['I']\n",
    "\n",
    "def format_half():\n",
    "    \"\"\"\n",
    "    for some reason in sympy 1/2 is its own object and not a rational.\n",
    "    This function formats it correctly like `format_rational`\n",
    "    \"\"\"\n",
    "    return ['mul'] + ['s+', '1'] + ['pow'] + ['s+', '2'] + [\"s-\", \"1\"]\n",
    "\n",
    "def format_rational(number):\n",
    "    # for some reason number.p is a string\n",
    "    p = sp.sympify(number.p)\n",
    "    q = sp.sympify(number.q)\n",
    "    return ['mul'] + format_integer(p) + ['pow'] + format_integer(q) + ['s-', '1']\n",
    "\n",
    "def format_integer(integer):\n",
    "    \"\"\"take a sympy integer and format it as in\n",
    "    https://arxiv.org/pdf/1912.01412.pdf\n",
    "\n",
    "    input:\n",
    "        integer: a `sympy.Integer` object, e.g. `sympy.Integer(-1)`\n",
    "\n",
    "    output:\n",
    "        [sign_token, digit0, digit1, ...]\n",
    "        where sign_token is 's+' or 's-'\n",
    "\n",
    "    Example:\n",
    "        format_integer(sympy.Integer(-123))\n",
    "        >> ['s-', '1', '2', '3']\n",
    "\n",
    "    Implementation notes:\n",
    "    Somehow Integer inherits from Rational in Sympy and a rational is p/q,\n",
    "    so integer.p is used to extract the number.\n",
    "    \"\"\"\n",
    "    # plus_sign = \"s+\"\n",
    "    plus_sign = \"s+\"\n",
    "    minus_sign = \"s-\"\n",
    "    abs_num = abs(integer.p)\n",
    "    is_neg = integer.could_extract_minus_sign()\n",
    "    digits = list(str(abs_num))\n",
    "    # digits = [str(abs_num)]\n",
    "\n",
    "    if is_neg:\n",
    "        ret = [minus_sign] + digits\n",
    "    else:\n",
    "        ret = [plus_sign] + digits\n",
    "\n",
    "    return ret\n",
    "\n",
    "def parse_if_str(x):\n",
    "    if isinstance(x, str):\n",
    "        return sp.parsing.parse_expr(x)\n",
    "    return x\n",
    "\n",
    "def rightmost_string_pos(expr_arr, pos=-1):\n",
    "    if isinstance(expr_arr[pos], str):\n",
    "        return len(expr_arr)+pos\n",
    "    else:\n",
    "        return rightmost_string_pos(expr_arr, pos-1)\n",
    "\n",
    "\n",
    "def rightmost_operand_pos(expr, pos):\n",
    "    operators = list(operators_inv.keys()) + [\"s+\", \"s-\"] + variables\n",
    "    if expr[pos] in operators:\n",
    "        return pos\n",
    "    else:\n",
    "        return rightmost_operand_pos(expr, pos-1)\n",
    "\n",
    "def unformat_integer(arr):\n",
    "    \"\"\"\n",
    "    inverse of the function format_integer.\n",
    "\n",
    "    input:\n",
    "        arr: array of strings just as the output of format_integer. E.g. [\"s+\", \"4\", \"2\"]\n",
    "\n",
    "    output:\n",
    "        the correspinding sympy integer, e.g. sympy.Integer(42) in the above example.\n",
    "\n",
    "    The sign tokens are \"s+\" for positive integers and \"s-\" for negative. 0 comes with \"s+\", but does not matter.\n",
    "\n",
    "    \"\"\"\n",
    "    sign_token = arr[0]\n",
    "    ret = \"-\" if sign_token == \"s-\" else \"\"\n",
    "    for s in arr[1:]:\n",
    "        ret += str(s)\n",
    "\n",
    "    return sp.parsing.parse_expr(ret)\n",
    "\n",
    "def prefix_to_sympy(expr_arr):\n",
    "    if len(expr_arr) == 1:\n",
    "        return parse_if_str(expr_arr[0])\n",
    "    op_pos = rightmost_operand_pos(expr_arr,len(expr_arr) - 1)\n",
    "    if (op_pos == -1) | (op_pos == len(expr_arr)):\n",
    "        print(\"something went wrong, operator should not be at end of array\")\n",
    "    op = expr_arr[op_pos]\n",
    "    \n",
    "    if op in operators_inv.keys():\n",
    "        num_args = operators_nargs[op]\n",
    "        op = operators_inv[op]\n",
    "        args = expr_arr[op_pos+1:op_pos+num_args+1]\n",
    "        args = [parse_if_str(a) for a in args]\n",
    "        func = op(*args)\n",
    "        expr = expr_arr[0:op_pos] + [func] + expr_arr[op_pos+num_args+1:]\n",
    "        return prefix_to_sympy(expr)\n",
    "\n",
    "    elif (op == 's+') | (op == \"s-\"):\n",
    "        # int_end_pos = rightmost_int_pos(expr_arr)\n",
    "        string_end_pos = rightmost_string_pos(expr_arr)\n",
    "        integer = unformat_integer(expr_arr[op_pos:string_end_pos+1])\n",
    "        expr_arr_new = expr_arr[0:op_pos] + [integer] + expr_arr[string_end_pos+1:]\n",
    "        return prefix_to_sympy(expr_arr_new)\n",
    "        \n",
    "    elif op in variables:\n",
    "        op = sp.sympify(op)\n",
    "        expr_arr_new = expr_arr[0:op_pos] + [op] + expr_arr[op_pos+1:]\n",
    "        return prefix_to_sympy(expr_arr_new)\n",
    "\n",
    "    return op\n",
    "\n",
    "# class Tokenizer(Tokenizer):\n",
    "#     def __init__(self, vocab_path):\n",
    "#         super().__init__(vocab_path)\n",
    "\n",
    "#     def equation_encoder(self, data):\n",
    "#         return [sympy_to_prefix(expr) for expr in data]\n",
    "    \n",
    "#     def equation_decoder(self, data):\n",
    "#         return [prefix_to_sympy(lst) for lst in data]\n",
    "\n",
    "#     def pre_tokenize(self, data):\n",
    "#         return data\n",
    "    \n",
    "#     def tokenize(self, data):\n",
    "#         out = self.pre_tokenize(data)\n",
    "#         out = self.equation_encoder(out)\n",
    "#         out = [['<bos>'] + i + ['<eos>'] for i in out]\n",
    "#         out = self.encode(out)\n",
    "#         return out\n",
    "    \n",
    "#     def reverse_tokenize(self, data):\n",
    "#         out = self.decode(data)\n",
    "#         out = self.equation_decoder(out)\n",
    "#         return out\n",
    "\n",
    "# def convert_to_functional_form(expr):\n",
    "#     # Ensure the input is a SymPy expression\n",
    "#     expr = sp.sympify(expr)\n",
    "    \n",
    "#     for key,value in operators.items():\n",
    "#         if isinstance(expr, key):\n",
    "#             args = expr.args\n",
    "#             return f\"{value}({', '.join(convert_to_functional_form(arg) for arg in args)})\"\n",
    "        \n",
    "#     for item in numbers_types:\n",
    "#         if type(expr) == sp.core.numbers.Rational or type(expr) == sp.core.numbers.Float:\n",
    "#             return f\"div({str(sp.Rational(expr).p)}, {str(sp.Rational(expr).q)})\"\n",
    "#         elif type(expr) == item:\n",
    "#             return str(expr)\n",
    "        \n",
    "#     if isinstance(expr, sp.Symbol):\n",
    "#         return str(expr)\n",
    "#     else:\n",
    "#         print(expr)\n",
    "#         raise ValueError(f\"Unsupported expression type: {type(expr)}\")\n"
   ]
  },
  {
   "cell_type": "code",
   "execution_count": null,
   "id": "a4287e86",
   "metadata": {
    "papermill": {
     "duration": 0.009287,
     "end_time": "2025-04-08T09:21:58.079120",
     "exception": false,
     "start_time": "2025-04-08T09:21:58.069833",
     "status": "completed"
    },
    "tags": []
   },
   "outputs": [],
   "source": []
  },
  {
   "cell_type": "code",
   "execution_count": 6,
   "id": "159c478e",
   "metadata": {
    "execution": {
     "iopub.execute_input": "2025-04-08T09:21:58.099854Z",
     "iopub.status.busy": "2025-04-08T09:21:58.099483Z",
     "iopub.status.idle": "2025-04-08T09:21:58.127107Z",
     "shell.execute_reply": "2025-04-08T09:21:58.126204Z"
    },
    "papermill": {
     "duration": 0.040211,
     "end_time": "2025-04-08T09:21:58.128827",
     "exception": false,
     "start_time": "2025-04-08T09:21:58.088616",
     "status": "completed"
    },
    "tags": []
   },
   "outputs": [],
   "source": [
    "@dataclass\n",
    "class Operator:\n",
    "    arity: int\n",
    "    weight: int\n",
    "    \n",
    "class ExpressionGenerator:\n",
    "    OPERATORS = {\n",
    "        # Elementary functions\n",
    "        \"+\": Operator(2, 8),\n",
    "        \"-\": Operator(2, 5),\n",
    "        \"*\": Operator(2, 8),\n",
    "        \"/\": Operator(2, 5),\n",
    "        \"^\": Operator(2, 2),\n",
    "        \n",
    "        \"pow2\": Operator(1, 6),\n",
    "        \"pow3\": Operator(1, 4),\n",
    "        \"pow4\": Operator(1, 3),\n",
    "        \"pow5\": Operator(1, 4),\n",
    "        \"pow6\": Operator(1, 3),\n",
    "        \n",
    "        # \"inv\": Operator(1, 8),\n",
    "        \"sqrt\": Operator(1, 8),\n",
    "        \"exp\": Operator(1, 2),\n",
    "        \"ln\": Operator(1, 4),\n",
    "        # 'abs': Operator(1, 2),\n",
    "        \n",
    "        # Trigonometric Functions\n",
    "        \"sin\": Operator(1, 6),\n",
    "        \"cos\": Operator(1, 6),\n",
    "        \"tan\": Operator(1, 4),\n",
    "        # \"cot\": Operator(1, 2),\n",
    "        \n",
    "        # Inverse functions\n",
    "        \"asin\": Operator(1, 2),\n",
    "        \"acos\": Operator(1, 2),\n",
    "        # \"atan\": Operator(1, 1),\n",
    "        \"acot\": Operator(1, 2),\n",
    "    }\n",
    "    def __init__(self, max_ops, rng: np.random.Generator, variables=None):\n",
    "        self.variables = variables if variables is not None else [\"x\"]\n",
    "        self.nl = 1  # self.n_leaves\n",
    "        self.p1 = 1  # len(self.una_ops)\n",
    "        self.p2 = 1  # len(self.bin_ops)\n",
    "        self.max_ops = max_ops\n",
    "        self.leaf_probs = [1, 0, 0, 0]\n",
    "        self.leaf_probs = self.leaf_probs / np.sum(self.leaf_probs)\n",
    "\n",
    "        self.ubi_dist = self.generate_ubi_dist()\n",
    "        self.una_ops = []\n",
    "        self.bin_ops = []\n",
    "        for op_name, op in self.OPERATORS.items():\n",
    "            if op.arity == 1:\n",
    "                self.una_ops.append(op_name)\n",
    "            else:\n",
    "                self.bin_ops.append(op_name)\n",
    "        self.una_ops_probs = self.convert_to_dist(self.una_ops)\n",
    "        self.bin_ops_probs = self.convert_to_dist(self.bin_ops)\n",
    "        self.rng = rng\n",
    "\n",
    "    def convert_to_dist(self, operations: List[str]):\n",
    "        array = []\n",
    "        for operation in operations:\n",
    "            array.append(self.OPERATORS[operation].weight)\n",
    "        array = np.array(array)\n",
    "        return array / array.sum()\n",
    "\n",
    "    def generate_ubi_dist(self):\n",
    "        \"\"\"\n",
    "        Copied from https://github.com/facebookresearch/SymbolicMathematics/blob/4596d070e1a9a1c2239c923d7d68fda577c8c007/src/envs/char_sp.py\n",
    "        `max_ops`: maximum number of operators\n",
    "        Enumerate the number of possible unary-binary trees that can be generated from empty nodes.\n",
    "        D[e][n] represents the number of different binary trees with n nodes that\n",
    "        can be generated from e empty nodes, using the following recursion:\n",
    "            D(0, n) = 0\n",
    "            D(e, 0) = L ** e\n",
    "            D(e, n) = L * D(e - 1, n) + p_1 * D(e, n - 1) + p_2 * D(e + 1, n - 1)\n",
    "        \"\"\"\n",
    "        # enumerate possible trees\n",
    "        # first generate the tranposed version of D, then transpose it\n",
    "        D = [[0] + ([self.nl ** i for i in range(1, 2 * self.max_ops + 1)])]\n",
    "        for n in range(1, 2 * self.max_ops + 1):  # number of operators\n",
    "            s = [0]\n",
    "            for e in range(1, 2 * self.max_ops - n + 1):  # number of empty nodes\n",
    "                s.append(\n",
    "                    self.nl * s[e - 1]\n",
    "                    + self.p1 * D[n - 1][e]\n",
    "                    + self.p2 * D[n - 1][e + 1]\n",
    "                )\n",
    "            D.append(s)\n",
    "        assert all(len(D[i]) >= len(D[i + 1]) for i in range(len(D) - 1))\n",
    "        D = [\n",
    "            [D[j][i] for j in range(len(D)) if i < len(D[j])]\n",
    "            for i in range(max(len(x) for x in D))\n",
    "        ]\n",
    "        return D\n",
    "\n",
    "    def get_leaf(self, max_int: int):\n",
    "        \"\"\"\n",
    "        Generate a leaf.\n",
    "        \"\"\"\n",
    "        leaf_type = self.rng.choice(len(self.leaf_probs), p=self.leaf_probs)\n",
    "        if leaf_type == 0:\n",
    "            return self.rng.choice(self.variables)\n",
    "        elif leaf_type == 1:\n",
    "            num = self.rng.integers(1, max_int + 1)\n",
    "            if self.rng.uniform() <= 0.5:\n",
    "                return -num\n",
    "            return num\n",
    "        elif leaf_type == 2:\n",
    "            return np.round(self.rng.uniform(-max_int, max_int), 4)\n",
    "        else:\n",
    "            return 0\n",
    "\n",
    "    def sample_next_pos_ubi(self, nb_empty, nb_ops):\n",
    "        \"\"\"\n",
    "        Sample the position of the next node (unary-binary case).\n",
    "        Sample a position in {0, ..., `nb_empty` - 1}, along with an arity.\n",
    "        \"\"\"\n",
    "        assert nb_empty > 0\n",
    "        assert nb_ops > 0\n",
    "        probs = []\n",
    "        for i in range(nb_empty):\n",
    "            probs.append(\n",
    "                (self.nl ** i) * self.p1 * self.ubi_dist[nb_empty - i][nb_ops - 1]\n",
    "            )\n",
    "        for i in range(nb_empty):\n",
    "            probs.append(\n",
    "                (self.nl ** i) * self.p2 * self.ubi_dist[nb_empty - i + 1][nb_ops - 1]\n",
    "            )\n",
    "        probs = [p / self.ubi_dist[nb_empty][nb_ops] for p in probs]\n",
    "        probs = np.array(probs, dtype=np.float64)\n",
    "        e = self.rng.choice(2 * nb_empty, p=probs)\n",
    "        arity = 1 if e < nb_empty else 2\n",
    "        e = e % nb_empty\n",
    "        return e, arity\n",
    "\n",
    "    def generate_expr(self, nb_total_ops, max_int):\n",
    "        \"\"\"\n",
    "        Copied from https://github.com/facebookresearch/SymbolicMathematics/blob/4596d070e1a9a1c2239c923d7d68fda577c8c007/src/envs/char_sp.py\n",
    "        Create a tree with exactly `nb_total_ops` operators.\n",
    "        \"\"\"\n",
    "        stack = [None]\n",
    "        nb_empty = 1  # number of empty nodes\n",
    "        l_leaves = 0  # left leaves - None states reserved for leaves\n",
    "        t_leaves = 1  # total number of leaves (just used for sanity check)\n",
    "\n",
    "        # create tree\n",
    "        last_op = None\n",
    "        for nb_ops in range(nb_total_ops, 0, -1):\n",
    "\n",
    "            # next operator, arity and position\n",
    "            skipped, arity = self.sample_next_pos_ubi(nb_empty, nb_ops)\n",
    "            if arity == 1:\n",
    "                op = self.rng.choice(self.una_ops, p=self.una_ops_probs)  # add probs\n",
    "            else:\n",
    "                op = self.rng.choice(self.bin_ops, p=self.bin_ops_probs)  # add probs\n",
    "\n",
    "            nb_empty += (\n",
    "                self.OPERATORS[op].arity - 1 - skipped\n",
    "            )  # created empty nodes - skipped future leaves\n",
    "            t_leaves += self.OPERATORS[op].arity - 1  # update number of total leaves\n",
    "            l_leaves += skipped  # update number of left leaves\n",
    "\n",
    "            # update tree\n",
    "            pos = [i for i, v in enumerate(stack) if v is None][l_leaves]\n",
    "            stack = (\n",
    "                stack[:pos]\n",
    "                + [op]\n",
    "                + [None for _ in range(self.OPERATORS[op].arity)]\n",
    "                + stack[pos + 1 :]\n",
    "            )\n",
    "\n",
    "        _ = last_op\n",
    "        leaves = [self.get_leaf(max_int) for _ in range(t_leaves)]\n",
    "        self.rng.shuffle(leaves)\n",
    "\n",
    "        # insert leaves into tree\n",
    "        for pos in range(len(stack) - 1, -1, -1):\n",
    "            if stack[pos] is None:\n",
    "                stack = stack[:pos] + [leaves.pop()] + stack[pos + 1 :]\n",
    "        assert len(leaves) == 0\n",
    "        return [str(s) for s in stack]\n",
    "\n",
    "    def rewrite(self, arg, x):\n",
    "        if x == \"pow2\":\n",
    "            return f\"(({arg})^2)\"\n",
    "        elif x == \"pow3\":\n",
    "            return f\"(({arg})^3)\"\n",
    "        elif x == \"pow4\":\n",
    "            return f\"(({arg})^4)\"\n",
    "        elif x == \"pow5\":\n",
    "            return f\"(({arg})^5)\"\n",
    "        elif x == \"pow6\":\n",
    "            return f\"(({arg})^6)\"\n",
    "        elif x == \"inv\":\n",
    "            return f\"(1/({arg}))\"\n",
    "        else:\n",
    "            return x + \"(\" + arg + \")\"\n",
    "\n",
    "    def infix(self, exp):\n",
    "        \"\"\"Returns an infix string representation giving a prefix token list.\"\"\"\n",
    "        stack = []\n",
    "        for x in reversed(exp):\n",
    "            if x not in self.OPERATORS:\n",
    "                stack.append(x)\n",
    "            elif self.OPERATORS[x].arity == 1:\n",
    "                arg = stack.pop()\n",
    "                stack.append(self.rewrite(arg, x))\n",
    "            else:\n",
    "                left = stack.pop()\n",
    "                right = stack.pop()\n",
    "                stack.append(\"(\" + left + \" \" + x + \" \" + right + \")\")\n",
    "        assert len(stack) == 1\n",
    "        return stack[0]"
   ]
  },
  {
   "cell_type": "markdown",
   "id": "9cfaa1e4",
   "metadata": {
    "papermill": {
     "duration": 0.009227,
     "end_time": "2025-04-08T09:21:58.147777",
     "exception": false,
     "start_time": "2025-04-08T09:21:58.138550",
     "status": "completed"
    },
    "tags": []
   },
   "source": [
    "# utils"
   ]
  },
  {
   "cell_type": "code",
   "execution_count": null,
   "id": "f312ffa3",
   "metadata": {
    "papermill": {
     "duration": 0.009178,
     "end_time": "2025-04-08T09:21:58.166354",
     "exception": false,
     "start_time": "2025-04-08T09:21:58.157176",
     "status": "completed"
    },
    "tags": []
   },
   "outputs": [],
   "source": []
  },
  {
   "cell_type": "markdown",
   "id": "c15c2225",
   "metadata": {
    "papermill": {
     "duration": 0.009184,
     "end_time": "2025-04-08T09:21:58.184877",
     "exception": false,
     "start_time": "2025-04-08T09:21:58.175693",
     "status": "completed"
    },
    "tags": []
   },
   "source": [
    "# Data"
   ]
  },
  {
   "cell_type": "code",
   "execution_count": 7,
   "id": "4258e036",
   "metadata": {
    "execution": {
     "iopub.execute_input": "2025-04-08T09:21:58.205013Z",
     "iopub.status.busy": "2025-04-08T09:21:58.204635Z",
     "iopub.status.idle": "2025-04-08T09:21:58.221358Z",
     "shell.execute_reply": "2025-04-08T09:21:58.220365Z"
    },
    "papermill": {
     "duration": 0.028899,
     "end_time": "2025-04-08T09:21:58.223050",
     "exception": false,
     "start_time": "2025-04-08T09:21:58.194151",
     "status": "completed"
    },
    "tags": []
   },
   "outputs": [],
   "source": [
    "from sympy import diff, limit, nan\n",
    "from interruptingcow import timeout\n",
    "def convert(infix):\n",
    "    return expand(sympy.simplify(str(infix)))#.evalf(8)\n",
    "\n",
    "class Data():\n",
    "    \"\"\"\n",
    "    \n",
    "    \"\"\"\n",
    "    def __init__(self, config, order, precision, point):\n",
    "        self.CFG = config\n",
    "        self.order = order\n",
    "        self.point = point\n",
    "        self.exp_gen = ExpressionGenerator(self.CFG.max_num_ops, np.random.default_rng(), ['x'])\n",
    "        self.x = symbols('x')\n",
    "\n",
    "    def get_limit(self, expr, point):\n",
    "        sub = expr.subs(self.x, point)\n",
    "        \n",
    "        if sub.is_finite:\n",
    "            return sub\n",
    "            \n",
    "        if limit(sub, self.x, point).is_finite:\n",
    "            return limit(sub, point)\n",
    "            \n",
    "        return nan\n",
    "        \n",
    "    def taylor_expsn(self, expr_str:str, point):\n",
    "        expr = sympify(expr_str)\n",
    "\n",
    "        # zeroth term\n",
    "        expr_sub = self.get_limit(expr, point)\n",
    "        if not expr_sub.is_finite:\n",
    "            return nan\n",
    "\n",
    "        zeroth_term = expr_sub\n",
    "        fact = 1\n",
    "        taylor = zeroth_term\n",
    "        for order in range(1, self.order+1):\n",
    "            der = diff(expr, self.x, order)\n",
    "            der_sub = self.get_limit(der, point)\n",
    "            if not der_sub.is_finite:\n",
    "                continue\n",
    "            fact *= order\n",
    "            o_term = ((self.x - point)**order * der_sub) / fact \n",
    "            taylor += o_term\n",
    "        return taylor\n",
    "        \n",
    "    def gen_expr(self):\n",
    "        retry = 0\n",
    "        while retry < 20:\n",
    "            try:\n",
    "                with timeout(5, exception= RuntimeError):\n",
    "                    x = symbols('x')\n",
    "                    num_operations = self.exp_gen.rng.integers(1, self.CFG.max_num_ops + 1)\n",
    "                    pfx = self.exp_gen.generate_expr(num_operations, self.CFG.max_integer)\n",
    "                    ifx = self.exp_gen.infix(pfx)\n",
    "                    ifx = convert(ifx)\n",
    "                    expsn = self.taylor_expsn(ifx, self.point)\n",
    "                    coeff = [expsn.coeff(x,_) for _ in range(self.order+1)]\n",
    "                    assert len(expsn.args)>0, 'No useful expansion!'\n",
    "                    \n",
    "                    assert sum([im(_)!=0 for _ in coeff]) == 0, 'Imaginary is bad!'\n",
    "                    return pfx, ifx, expsn\n",
    "            except RuntimeError:\n",
    "                print('Timed out')\n",
    "                continue\n",
    "            except Exception as ex:\n",
    "                # if retry == 1:\n",
    "                #     print(ex)\n",
    "                    \n",
    "                retry += 1\n",
    "                continue\n",
    "        print('Skipping Number')\n",
    "        raise Exception('hit max tries')\n",
    "    def generate(self):\n",
    "        \n",
    "        df = pd.DataFrame()\n",
    "        function = []\n",
    "        prefixes = []\n",
    "        expansion = []\n",
    "        x = symbols('x')\n",
    "        for i in tqdm(range(self.CFG.data_size)):\n",
    "            try:\n",
    "                prefix, expression, expnsn = self.gen_expr()\n",
    "            except:\n",
    "                continue\n",
    "            prefixes.append(prefix)\n",
    "            function.append(str(expression))\n",
    "            expansion.append(str(expnsn))\n",
    "        df['prefix'] = prefixes    \n",
    "        df['function'] = function\n",
    "        df['expansion'] = expansion\n",
    "        # Dataframe which contain functions and their corresponding expansion\n",
    "        df = df.sample(frac=1, random_state=2023, ignore_index=True)\n",
    "        return df\n"
   ]
  },
  {
   "cell_type": "code",
   "execution_count": 8,
   "id": "c8242fa3",
   "metadata": {
    "execution": {
     "iopub.execute_input": "2025-04-08T09:21:58.244211Z",
     "iopub.status.busy": "2025-04-08T09:21:58.243825Z",
     "iopub.status.idle": "2025-04-08T09:21:58.250339Z",
     "shell.execute_reply": "2025-04-08T09:21:58.249316Z"
    },
    "papermill": {
     "duration": 0.019489,
     "end_time": "2025-04-08T09:21:58.252231",
     "exception": false,
     "start_time": "2025-04-08T09:21:58.232742",
     "status": "completed"
    },
    "tags": []
   },
   "outputs": [],
   "source": [
    "data = Data(CFG, 4, 8, 0)"
   ]
  },
  {
   "cell_type": "code",
   "execution_count": 9,
   "id": "34657971",
   "metadata": {
    "execution": {
     "iopub.execute_input": "2025-04-08T09:21:58.272907Z",
     "iopub.status.busy": "2025-04-08T09:21:58.272526Z",
     "iopub.status.idle": "2025-04-08T10:47:39.668642Z",
     "shell.execute_reply": "2025-04-08T10:47:39.667245Z"
    },
    "papermill": {
     "duration": 5141.408619,
     "end_time": "2025-04-08T10:47:39.670435",
     "exception": false,
     "start_time": "2025-04-08T09:21:58.261816",
     "status": "completed"
    },
    "tags": []
   },
   "outputs": [
    {
     "name": "stderr",
     "output_type": "stream",
     "text": [
      "  2%|▏         | 319/15000 [01:36<5:25:07,  1.33s/it]"
     ]
    },
    {
     "name": "stdout",
     "output_type": "stream",
     "text": [
      "Timed out\n"
     ]
    },
    {
     "name": "stderr",
     "output_type": "stream",
     "text": [
      "  2%|▏         | 361/15000 [02:01<4:10:12,  1.03s/it]"
     ]
    },
    {
     "name": "stdout",
     "output_type": "stream",
     "text": [
      "Timed out\n"
     ]
    },
    {
     "name": "stderr",
     "output_type": "stream",
     "text": [
      "  4%|▎         | 550/15000 [03:05<4:34:17,  1.14s/it]"
     ]
    },
    {
     "name": "stdout",
     "output_type": "stream",
     "text": [
      "Timed out\n"
     ]
    },
    {
     "name": "stderr",
     "output_type": "stream",
     "text": [
      "  4%|▍         | 566/15000 [03:09<1:15:16,  3.20it/s]"
     ]
    },
    {
     "name": "stdout",
     "output_type": "stream",
     "text": [
      "Timed out\n"
     ]
    },
    {
     "name": "stderr",
     "output_type": "stream",
     "text": [
      "  7%|▋         | 1124/15000 [06:15<5:37:58,  1.46s/it]"
     ]
    },
    {
     "name": "stdout",
     "output_type": "stream",
     "text": [
      "Timed out\n"
     ]
    },
    {
     "name": "stderr",
     "output_type": "stream",
     "text": [
      "  8%|▊         | 1178/15000 [06:45<6:22:57,  1.66s/it]"
     ]
    },
    {
     "name": "stdout",
     "output_type": "stream",
     "text": [
      "Timed out\n"
     ]
    },
    {
     "name": "stderr",
     "output_type": "stream",
     "text": [
      "  9%|▉         | 1385/15000 [07:52<43:51,  5.17it/s]"
     ]
    },
    {
     "name": "stdout",
     "output_type": "stream",
     "text": [
      "Timed out\n"
     ]
    },
    {
     "name": "stderr",
     "output_type": "stream",
     "text": [
      " 10%|█         | 1528/15000 [08:55<6:26:33,  1.72s/it]"
     ]
    },
    {
     "name": "stdout",
     "output_type": "stream",
     "text": [
      "Timed out\n"
     ]
    },
    {
     "name": "stderr",
     "output_type": "stream",
     "text": [
      " 11%|█         | 1618/15000 [09:27<5:05:47,  1.37s/it]"
     ]
    },
    {
     "name": "stdout",
     "output_type": "stream",
     "text": [
      "Timed out\n"
     ]
    },
    {
     "name": "stderr",
     "output_type": "stream",
     "text": [
      " 12%|█▏        | 1747/15000 [10:14<38:15,  5.77it/s]"
     ]
    },
    {
     "name": "stdout",
     "output_type": "stream",
     "text": [
      "Timed out\n"
     ]
    },
    {
     "name": "stderr",
     "output_type": "stream",
     "text": [
      " 13%|█▎        | 1997/15000 [11:49<58:13,  3.72it/s]"
     ]
    },
    {
     "name": "stdout",
     "output_type": "stream",
     "text": [
      "Timed out\n"
     ]
    },
    {
     "name": "stderr",
     "output_type": "stream",
     "text": [
      " 14%|█▍        | 2075/15000 [12:24<2:28:37,  1.45it/s]"
     ]
    },
    {
     "name": "stdout",
     "output_type": "stream",
     "text": [
      "Timed out\n"
     ]
    },
    {
     "name": "stderr",
     "output_type": "stream",
     "text": [
      " 21%|██▏       | 3215/15000 [18:21<1:11:16,  2.76it/s]"
     ]
    },
    {
     "name": "stdout",
     "output_type": "stream",
     "text": [
      "Timed out\n"
     ]
    },
    {
     "name": "stderr",
     "output_type": "stream",
     "text": [
      " 22%|██▏       | 3280/15000 [18:57<6:24:35,  1.97s/it]"
     ]
    },
    {
     "name": "stdout",
     "output_type": "stream",
     "text": [
      "Timed out\n"
     ]
    },
    {
     "name": "stderr",
     "output_type": "stream",
     "text": [
      " 22%|██▏       | 3358/15000 [19:27<3:15:08,  1.01s/it]"
     ]
    },
    {
     "name": "stdout",
     "output_type": "stream",
     "text": [
      "Timed out\n"
     ]
    },
    {
     "name": "stderr",
     "output_type": "stream",
     "text": [
      " 23%|██▎       | 3393/15000 [19:44<4:15:34,  1.32s/it]"
     ]
    },
    {
     "name": "stdout",
     "output_type": "stream",
     "text": [
      "Timed out\n"
     ]
    },
    {
     "name": "stderr",
     "output_type": "stream",
     "text": [
      " 23%|██▎       | 3503/15000 [20:12<1:10:07,  2.73it/s]"
     ]
    },
    {
     "name": "stdout",
     "output_type": "stream",
     "text": [
      "Timed out\n"
     ]
    },
    {
     "name": "stderr",
     "output_type": "stream",
     "text": [
      " 26%|██▌       | 3875/15000 [22:04<32:00,  5.79it/s]"
     ]
    },
    {
     "name": "stdout",
     "output_type": "stream",
     "text": [
      "Timed out\n"
     ]
    },
    {
     "name": "stderr",
     "output_type": "stream",
     "text": [
      " 27%|██▋       | 4022/15000 [22:59<1:57:31,  1.56it/s]"
     ]
    },
    {
     "name": "stdout",
     "output_type": "stream",
     "text": [
      "Timed out\n"
     ]
    },
    {
     "name": "stderr",
     "output_type": "stream",
     "text": [
      " 28%|██▊       | 4131/15000 [23:35<2:15:22,  1.34it/s]"
     ]
    },
    {
     "name": "stdout",
     "output_type": "stream",
     "text": [
      "Timed out\n"
     ]
    },
    {
     "name": "stderr",
     "output_type": "stream",
     "text": [
      " 28%|██▊       | 4232/15000 [24:06<2:18:21,  1.30it/s]"
     ]
    },
    {
     "name": "stdout",
     "output_type": "stream",
     "text": [
      "Timed out\n"
     ]
    },
    {
     "name": "stderr",
     "output_type": "stream",
     "text": [
      " 28%|██▊       | 4256/15000 [24:16<4:10:35,  1.40s/it]"
     ]
    },
    {
     "name": "stdout",
     "output_type": "stream",
     "text": [
      "Timed out\n"
     ]
    },
    {
     "name": "stderr",
     "output_type": "stream",
     "text": [
      " 28%|██▊       | 4275/15000 [24:26<3:54:33,  1.31s/it]"
     ]
    },
    {
     "name": "stdout",
     "output_type": "stream",
     "text": [
      "Timed out\n"
     ]
    },
    {
     "name": "stderr",
     "output_type": "stream",
     "text": [
      " 31%|███       | 4606/15000 [26:24<4:22:26,  1.51s/it]"
     ]
    },
    {
     "name": "stdout",
     "output_type": "stream",
     "text": [
      "Timed out\n"
     ]
    },
    {
     "name": "stderr",
     "output_type": "stream",
     "text": [
      " 31%|███▏      | 4719/15000 [27:15<1:22:32,  2.08it/s]"
     ]
    },
    {
     "name": "stdout",
     "output_type": "stream",
     "text": [
      "Timed out\n"
     ]
    },
    {
     "name": "stderr",
     "output_type": "stream",
     "text": [
      " 34%|███▎      | 5040/15000 [28:49<2:51:02,  1.03s/it]"
     ]
    },
    {
     "name": "stdout",
     "output_type": "stream",
     "text": [
      "Timed out\n"
     ]
    },
    {
     "name": "stderr",
     "output_type": "stream",
     "text": [
      " 34%|███▎      | 5053/15000 [29:01<3:03:42,  1.11s/it]"
     ]
    },
    {
     "name": "stdout",
     "output_type": "stream",
     "text": [
      "Timed out\n"
     ]
    },
    {
     "name": "stderr",
     "output_type": "stream",
     "text": [
      " 34%|███▍      | 5109/15000 [29:21<1:26:13,  1.91it/s]"
     ]
    },
    {
     "name": "stdout",
     "output_type": "stream",
     "text": [
      "Timed out\n"
     ]
    },
    {
     "name": "stderr",
     "output_type": "stream",
     "text": [
      " 35%|███▍      | 5209/15000 [30:18<2:43:08,  1.00it/s]"
     ]
    },
    {
     "name": "stdout",
     "output_type": "stream",
     "text": [
      "Timed out\n"
     ]
    },
    {
     "name": "stderr",
     "output_type": "stream",
     "text": [
      " 36%|███▌      | 5378/15000 [31:04<1:01:46,  2.60it/s]"
     ]
    },
    {
     "name": "stdout",
     "output_type": "stream",
     "text": [
      "Timed out\n"
     ]
    },
    {
     "name": "stderr",
     "output_type": "stream",
     "text": [
      " 36%|███▌      | 5414/15000 [31:25<2:16:59,  1.17it/s]"
     ]
    },
    {
     "name": "stdout",
     "output_type": "stream",
     "text": [
      "Timed out\n"
     ]
    },
    {
     "name": "stderr",
     "output_type": "stream",
     "text": [
      " 37%|███▋      | 5478/15000 [31:41<29:37,  5.36it/s]"
     ]
    },
    {
     "name": "stdout",
     "output_type": "stream",
     "text": [
      "Timed out\n"
     ]
    },
    {
     "name": "stderr",
     "output_type": "stream",
     "text": [
      " 37%|███▋      | 5481/15000 [31:52<4:15:57,  1.61s/it]"
     ]
    },
    {
     "name": "stdout",
     "output_type": "stream",
     "text": [
      "Timed out\n"
     ]
    },
    {
     "name": "stderr",
     "output_type": "stream",
     "text": [
      " 40%|████      | 6016/15000 [34:37<2:30:49,  1.01s/it]"
     ]
    },
    {
     "name": "stdout",
     "output_type": "stream",
     "text": [
      "Timed out\n"
     ]
    },
    {
     "name": "stderr",
     "output_type": "stream",
     "text": [
      " 41%|████▏     | 6203/15000 [35:31<3:26:36,  1.41s/it]"
     ]
    },
    {
     "name": "stdout",
     "output_type": "stream",
     "text": [
      "Timed out\n"
     ]
    },
    {
     "name": "stderr",
     "output_type": "stream",
     "text": [
      " 42%|████▏     | 6306/15000 [35:56<44:26,  3.26it/s]"
     ]
    },
    {
     "name": "stdout",
     "output_type": "stream",
     "text": [
      "Timed out\n"
     ]
    },
    {
     "name": "stderr",
     "output_type": "stream",
     "text": [
      " 44%|████▍     | 6634/15000 [37:49<2:38:39,  1.14s/it]"
     ]
    },
    {
     "name": "stdout",
     "output_type": "stream",
     "text": [
      "Timed out\n"
     ]
    },
    {
     "name": "stderr",
     "output_type": "stream",
     "text": [
      " 45%|████▌     | 6804/15000 [38:52<4:02:05,  1.77s/it]"
     ]
    },
    {
     "name": "stdout",
     "output_type": "stream",
     "text": [
      "Timed out\n"
     ]
    },
    {
     "name": "stderr",
     "output_type": "stream",
     "text": [
      " 46%|████▋     | 6967/15000 [39:39<2:01:12,  1.10it/s]"
     ]
    },
    {
     "name": "stdout",
     "output_type": "stream",
     "text": [
      "Timed out\n"
     ]
    },
    {
     "name": "stderr",
     "output_type": "stream",
     "text": [
      " 50%|█████     | 7564/15000 [44:04<2:45:56,  1.34s/it]"
     ]
    },
    {
     "name": "stdout",
     "output_type": "stream",
     "text": [
      "Timed out\n"
     ]
    },
    {
     "name": "stderr",
     "output_type": "stream",
     "text": [
      " 51%|█████     | 7600/15000 [44:21<1:55:17,  1.07it/s]"
     ]
    },
    {
     "name": "stdout",
     "output_type": "stream",
     "text": [
      "Timed out\n"
     ]
    },
    {
     "name": "stderr",
     "output_type": "stream",
     "text": [
      " 52%|█████▏    | 7856/15000 [45:44<2:09:20,  1.09s/it]"
     ]
    },
    {
     "name": "stdout",
     "output_type": "stream",
     "text": [
      "Timed out\n"
     ]
    },
    {
     "name": "stderr",
     "output_type": "stream",
     "text": [
      " 52%|█████▏    | 7872/15000 [45:48<29:19,  4.05it/s]"
     ]
    },
    {
     "name": "stdout",
     "output_type": "stream",
     "text": [
      "Timed out\n"
     ]
    },
    {
     "name": "stderr",
     "output_type": "stream",
     "text": [
      " 53%|█████▎    | 7993/15000 [46:41<1:56:40,  1.00it/s]"
     ]
    },
    {
     "name": "stdout",
     "output_type": "stream",
     "text": [
      "Timed out\n"
     ]
    },
    {
     "name": "stderr",
     "output_type": "stream",
     "text": [
      " 54%|█████▍    | 8122/15000 [47:23<29:35,  3.87it/s]"
     ]
    },
    {
     "name": "stdout",
     "output_type": "stream",
     "text": [
      "Timed out\n"
     ]
    },
    {
     "name": "stderr",
     "output_type": "stream",
     "text": [
      " 56%|█████▌    | 8384/15000 [48:43<1:50:30,  1.00s/it]"
     ]
    },
    {
     "name": "stdout",
     "output_type": "stream",
     "text": [
      "Timed out\n"
     ]
    },
    {
     "name": "stderr",
     "output_type": "stream",
     "text": [
      " 57%|█████▋    | 8543/15000 [49:31<1:59:16,  1.11s/it]"
     ]
    },
    {
     "name": "stdout",
     "output_type": "stream",
     "text": [
      "Timed out\n"
     ]
    },
    {
     "name": "stderr",
     "output_type": "stream",
     "text": [
      " 58%|█████▊    | 8720/15000 [50:26<23:30,  4.45it/s]"
     ]
    },
    {
     "name": "stdout",
     "output_type": "stream",
     "text": [
      "Timed out\n"
     ]
    },
    {
     "name": "stderr",
     "output_type": "stream",
     "text": [
      " 58%|█████▊    | 8771/15000 [50:46<1:42:51,  1.01it/s]"
     ]
    },
    {
     "name": "stdout",
     "output_type": "stream",
     "text": [
      "Timed out\n"
     ]
    },
    {
     "name": "stderr",
     "output_type": "stream",
     "text": [
      " 59%|█████▉    | 8855/15000 [51:11<34:24,  2.98it/s]"
     ]
    },
    {
     "name": "stdout",
     "output_type": "stream",
     "text": [
      "Timed out\n"
     ]
    },
    {
     "name": "stderr",
     "output_type": "stream",
     "text": [
      " 60%|█████▉    | 8949/15000 [52:00<2:39:35,  1.58s/it]"
     ]
    },
    {
     "name": "stdout",
     "output_type": "stream",
     "text": [
      "Timed out\n"
     ]
    },
    {
     "name": "stderr",
     "output_type": "stream",
     "text": [
      " 60%|█████▉    | 8957/15000 [52:08<2:37:43,  1.57s/it]"
     ]
    },
    {
     "name": "stdout",
     "output_type": "stream",
     "text": [
      "Timed out\n"
     ]
    },
    {
     "name": "stderr",
     "output_type": "stream",
     "text": [
      " 63%|██████▎   | 9467/15000 [54:43<1:05:29,  1.41it/s]"
     ]
    },
    {
     "name": "stdout",
     "output_type": "stream",
     "text": [
      "Timed out\n"
     ]
    },
    {
     "name": "stderr",
     "output_type": "stream",
     "text": [
      " 64%|██████▍   | 9639/15000 [55:36<14:15,  6.27it/s]"
     ]
    },
    {
     "name": "stdout",
     "output_type": "stream",
     "text": [
      "Timed out\n"
     ]
    },
    {
     "name": "stderr",
     "output_type": "stream",
     "text": [
      " 66%|██████▌   | 9857/15000 [56:44<1:34:43,  1.11s/it]"
     ]
    },
    {
     "name": "stdout",
     "output_type": "stream",
     "text": [
      "Timed out\n"
     ]
    },
    {
     "name": "stderr",
     "output_type": "stream",
     "text": [
      " 66%|██████▌   | 9927/15000 [57:10<10:20,  8.17it/s]"
     ]
    },
    {
     "name": "stdout",
     "output_type": "stream",
     "text": [
      "Timed out\n"
     ]
    },
    {
     "name": "stderr",
     "output_type": "stream",
     "text": [
      " 66%|██████▌   | 9929/15000 [57:15<1:05:50,  1.28it/s]"
     ]
    },
    {
     "name": "stdout",
     "output_type": "stream",
     "text": [
      "Timed out\n"
     ]
    },
    {
     "name": "stderr",
     "output_type": "stream",
     "text": [
      " 67%|██████▋   | 9981/15000 [57:47<1:59:55,  1.43s/it]"
     ]
    },
    {
     "name": "stdout",
     "output_type": "stream",
     "text": [
      "Timed out\n"
     ]
    },
    {
     "name": "stderr",
     "output_type": "stream",
     "text": [
      " 69%|██████▉   | 10386/15000 [59:37<1:00:24,  1.27it/s]"
     ]
    },
    {
     "name": "stdout",
     "output_type": "stream",
     "text": [
      "Timed out\n"
     ]
    },
    {
     "name": "stderr",
     "output_type": "stream",
     "text": [
      " 70%|██████▉   | 10498/15000 [1:00:05<12:43,  5.90it/s]"
     ]
    },
    {
     "name": "stdout",
     "output_type": "stream",
     "text": [
      "Timed out\n"
     ]
    },
    {
     "name": "stderr",
     "output_type": "stream",
     "text": [
      " 71%|███████▏  | 10697/15000 [1:01:10<1:20:07,  1.12s/it]"
     ]
    },
    {
     "name": "stdout",
     "output_type": "stream",
     "text": [
      "Timed out\n"
     ]
    },
    {
     "name": "stderr",
     "output_type": "stream",
     "text": [
      " 72%|███████▏  | 10817/15000 [1:01:51<1:00:24,  1.15it/s]"
     ]
    },
    {
     "name": "stdout",
     "output_type": "stream",
     "text": [
      "Timed out\n"
     ]
    },
    {
     "name": "stderr",
     "output_type": "stream",
     "text": [
      " 74%|███████▎  | 11047/15000 [1:03:16<1:25:41,  1.30s/it]"
     ]
    },
    {
     "name": "stdout",
     "output_type": "stream",
     "text": [
      "Timed out\n"
     ]
    },
    {
     "name": "stderr",
     "output_type": "stream",
     "text": [
      " 75%|███████▍  | 11242/15000 [1:04:16<18:19,  3.42it/s]"
     ]
    },
    {
     "name": "stdout",
     "output_type": "stream",
     "text": [
      "Timed out\n"
     ]
    },
    {
     "name": "stderr",
     "output_type": "stream",
     "text": [
      " 76%|███████▌  | 11385/15000 [1:05:00<44:31,  1.35it/s]"
     ]
    },
    {
     "name": "stdout",
     "output_type": "stream",
     "text": [
      "Timed out\n"
     ]
    },
    {
     "name": "stderr",
     "output_type": "stream",
     "text": [
      " 78%|███████▊  | 11689/15000 [1:06:52<43:56,  1.26it/s]  "
     ]
    },
    {
     "name": "stdout",
     "output_type": "stream",
     "text": [
      "Timed out\n"
     ]
    },
    {
     "name": "stderr",
     "output_type": "stream",
     "text": [
      " 82%|████████▏ | 12368/15000 [1:10:30<32:00,  1.37it/s]"
     ]
    },
    {
     "name": "stdout",
     "output_type": "stream",
     "text": [
      "Timed out\n"
     ]
    },
    {
     "name": "stderr",
     "output_type": "stream",
     "text": [
      " 84%|████████▎ | 12562/15000 [1:11:22<08:23,  4.84it/s]"
     ]
    },
    {
     "name": "stdout",
     "output_type": "stream",
     "text": [
      "Timed out\n"
     ]
    },
    {
     "name": "stderr",
     "output_type": "stream",
     "text": [
      " 84%|████████▍ | 12633/15000 [1:11:50<46:23,  1.18s/it]"
     ]
    },
    {
     "name": "stdout",
     "output_type": "stream",
     "text": [
      "Timed out\n"
     ]
    },
    {
     "name": "stderr",
     "output_type": "stream",
     "text": [
      " 86%|████████▌ | 12881/15000 [1:13:10<34:41,  1.02it/s]"
     ]
    },
    {
     "name": "stdout",
     "output_type": "stream",
     "text": [
      "Timed out\n"
     ]
    },
    {
     "name": "stderr",
     "output_type": "stream",
     "text": [
      " 87%|████████▋ | 13087/15000 [1:14:16<54:17,  1.70s/it]"
     ]
    },
    {
     "name": "stdout",
     "output_type": "stream",
     "text": [
      "Timed out\n"
     ]
    },
    {
     "name": "stderr",
     "output_type": "stream",
     "text": [
      " 88%|████████▊ | 13188/15000 [1:14:46<04:27,  6.78it/s]"
     ]
    },
    {
     "name": "stdout",
     "output_type": "stream",
     "text": [
      "Timed out\n"
     ]
    },
    {
     "name": "stderr",
     "output_type": "stream",
     "text": [
      " 91%|█████████ | 13601/15000 [1:17:05<05:21,  4.36it/s]"
     ]
    },
    {
     "name": "stdout",
     "output_type": "stream",
     "text": [
      "Timed out\n"
     ]
    },
    {
     "name": "stderr",
     "output_type": "stream",
     "text": [
      " 93%|█████████▎| 13967/15000 [1:19:07<04:02,  4.27it/s]"
     ]
    },
    {
     "name": "stdout",
     "output_type": "stream",
     "text": [
      "Timed out\n"
     ]
    },
    {
     "name": "stderr",
     "output_type": "stream",
     "text": [
      " 94%|█████████▎| 14025/15000 [1:19:33<02:38,  6.16it/s]"
     ]
    },
    {
     "name": "stdout",
     "output_type": "stream",
     "text": [
      "Timed out\n"
     ]
    },
    {
     "name": "stderr",
     "output_type": "stream",
     "text": [
      " 95%|█████████▌| 14319/15000 [1:21:24<05:17,  2.14it/s]"
     ]
    },
    {
     "name": "stdout",
     "output_type": "stream",
     "text": [
      "Timed out\n"
     ]
    },
    {
     "name": "stderr",
     "output_type": "stream",
     "text": [
      " 95%|█████████▌| 14321/15000 [1:21:35<27:37,  2.44s/it]"
     ]
    },
    {
     "name": "stdout",
     "output_type": "stream",
     "text": [
      "Timed out\n"
     ]
    },
    {
     "name": "stderr",
     "output_type": "stream",
     "text": [
      " 96%|█████████▋| 14452/15000 [1:22:24<10:23,  1.14s/it]"
     ]
    },
    {
     "name": "stdout",
     "output_type": "stream",
     "text": [
      "Timed out\n"
     ]
    },
    {
     "name": "stderr",
     "output_type": "stream",
     "text": [
      " 98%|█████████▊| 14665/15000 [1:23:39<01:19,  4.21it/s]"
     ]
    },
    {
     "name": "stdout",
     "output_type": "stream",
     "text": [
      "Timed out\n"
     ]
    },
    {
     "name": "stderr",
     "output_type": "stream",
     "text": [
      " 98%|█████████▊| 14689/15000 [1:23:59<06:17,  1.22s/it]"
     ]
    },
    {
     "name": "stdout",
     "output_type": "stream",
     "text": [
      "Timed out\n"
     ]
    },
    {
     "name": "stderr",
     "output_type": "stream",
     "text": [
      " 98%|█████████▊| 14769/15000 [1:24:32<05:45,  1.49s/it]"
     ]
    },
    {
     "name": "stdout",
     "output_type": "stream",
     "text": [
      "Timed out\n"
     ]
    },
    {
     "name": "stderr",
     "output_type": "stream",
     "text": [
      " 99%|█████████▉| 14815/15000 [1:24:55<05:27,  1.77s/it]"
     ]
    },
    {
     "name": "stdout",
     "output_type": "stream",
     "text": [
      "Timed out\n"
     ]
    },
    {
     "name": "stderr",
     "output_type": "stream",
     "text": [
      "100%|██████████| 15000/15000 [1:25:41<00:00,  2.92it/s]\n"
     ]
    }
   ],
   "source": [
    "df = data.generate()"
   ]
  },
  {
   "cell_type": "code",
   "execution_count": 10,
   "id": "6f1d0c93",
   "metadata": {
    "execution": {
     "iopub.execute_input": "2025-04-08T10:47:40.695600Z",
     "iopub.status.busy": "2025-04-08T10:47:40.695131Z",
     "iopub.status.idle": "2025-04-08T10:47:40.699363Z",
     "shell.execute_reply": "2025-04-08T10:47:40.698192Z"
    },
    "papermill": {
     "duration": 0.517705,
     "end_time": "2025-04-08T10:47:40.701163",
     "exception": false,
     "start_time": "2025-04-08T10:47:40.183458",
     "status": "completed"
    },
    "tags": []
   },
   "outputs": [],
   "source": [
    "# # df.head(5)\n",
    "# sympy_to_prefix(sympify(df.iloc[0]['function']))"
   ]
  },
  {
   "cell_type": "code",
   "execution_count": 11,
   "id": "50cc9c3a",
   "metadata": {
    "execution": {
     "iopub.execute_input": "2025-04-08T10:47:41.821192Z",
     "iopub.status.busy": "2025-04-08T10:47:41.820834Z",
     "iopub.status.idle": "2025-04-08T10:49:05.463436Z",
     "shell.execute_reply": "2025-04-08T10:49:05.462027Z"
    },
    "papermill": {
     "duration": 84.157193,
     "end_time": "2025-04-08T10:49:05.465738",
     "exception": false,
     "start_time": "2025-04-08T10:47:41.308545",
     "status": "completed"
    },
    "tags": []
   },
   "outputs": [
    {
     "name": "stderr",
     "output_type": "stream",
     "text": [
      "5054:  34%|███▎      | 5038/15000 [00:25<00:51, 193.00it/s]"
     ]
    },
    {
     "name": "stdout",
     "output_type": "stream",
     "text": [
      "prefix       [cos, ^, /, x, -, x, x, *, *, x, x, x]\n",
      "function                       cos((zoo*x)**(x**3))\n",
      "expansion                                    cos(1)\n",
      "Name: 5017, dtype: object\n"
     ]
    },
    {
     "name": "stderr",
     "output_type": "stream",
     "text": [
      "14850:  99%|█████████▉| 14844/15000 [01:22<00:00, 160.61it/s]"
     ]
    },
    {
     "name": "stdout",
     "output_type": "stream",
     "text": [
      "prefix       [acot, +, /, x, ^, -, x, x, +, x, pow5, *, x, ...\n",
      "function                       acot(zoo**x*zoo**(x**10)*x + x)\n",
      "expansion                                                 pi/2\n",
      "Name: 14820, dtype: object\n"
     ]
    },
    {
     "name": "stderr",
     "output_type": "stream",
     "text": [
      "14997: 100%|██████████| 15000/15000 [01:23<00:00, 179.36it/s]\n"
     ]
    }
   ],
   "source": [
    "df_new = pd.DataFrame(columns=['prefix','function','expansion'])\n",
    "pbar = tqdm(df.iterrows(), total = len(df))\n",
    "\n",
    "for idx, row in pbar:\n",
    "    pbar.set_description(f'{len(df_new)}')\n",
    "    try:\n",
    "        ifx = row['function']\n",
    "        pfx = sympy_to_prefix(sympify(ifx))\n",
    "        df_new.loc[idx] = {'prefix':pfx,'function':row['function'], 'expansion':row['expansion']}\n",
    "    except:\n",
    "        print(row)\n",
    "        continue"
   ]
  },
  {
   "cell_type": "code",
   "execution_count": 12,
   "id": "9abc260d",
   "metadata": {
    "execution": {
     "iopub.execute_input": "2025-04-08T10:49:08.497706Z",
     "iopub.status.busy": "2025-04-08T10:49:08.497278Z",
     "iopub.status.idle": "2025-04-08T10:49:08.511465Z",
     "shell.execute_reply": "2025-04-08T10:49:08.510399Z"
    },
    "papermill": {
     "duration": 1.494345,
     "end_time": "2025-04-08T10:49:08.513359",
     "exception": false,
     "start_time": "2025-04-08T10:49:07.019014",
     "status": "completed"
    },
    "tags": []
   },
   "outputs": [],
   "source": [
    "df2 = df_new.drop_duplicates('function',ignore_index=True)"
   ]
  },
  {
   "cell_type": "code",
   "execution_count": 13,
   "id": "5ab5b8b1",
   "metadata": {
    "execution": {
     "iopub.execute_input": "2025-04-08T10:49:11.630770Z",
     "iopub.status.busy": "2025-04-08T10:49:11.630395Z",
     "iopub.status.idle": "2025-04-08T10:49:11.635623Z",
     "shell.execute_reply": "2025-04-08T10:49:11.634289Z"
    },
    "papermill": {
     "duration": 1.5695,
     "end_time": "2025-04-08T10:49:11.637606",
     "exception": false,
     "start_time": "2025-04-08T10:49:10.068106",
     "status": "completed"
    },
    "tags": []
   },
   "outputs": [
    {
     "name": "stdout",
     "output_type": "stream",
     "text": [
      "6519\n"
     ]
    }
   ],
   "source": [
    "print(len(df2))"
   ]
  },
  {
   "cell_type": "code",
   "execution_count": 14,
   "id": "bfbf99a8",
   "metadata": {
    "execution": {
     "iopub.execute_input": "2025-04-08T10:49:14.724048Z",
     "iopub.status.busy": "2025-04-08T10:49:14.723667Z",
     "iopub.status.idle": "2025-04-08T10:49:14.727968Z",
     "shell.execute_reply": "2025-04-08T10:49:14.727011Z"
    },
    "papermill": {
     "duration": 1.539764,
     "end_time": "2025-04-08T10:49:14.729885",
     "exception": false,
     "start_time": "2025-04-08T10:49:13.190121",
     "status": "completed"
    },
    "tags": []
   },
   "outputs": [],
   "source": [
    "# df2"
   ]
  },
  {
   "cell_type": "code",
   "execution_count": 15,
   "id": "30fff03b",
   "metadata": {
    "execution": {
     "iopub.execute_input": "2025-04-08T10:49:17.710421Z",
     "iopub.status.busy": "2025-04-08T10:49:17.709997Z",
     "iopub.status.idle": "2025-04-08T10:49:17.772435Z",
     "shell.execute_reply": "2025-04-08T10:49:17.771263Z"
    },
    "papermill": {
     "duration": 1.515577,
     "end_time": "2025-04-08T10:49:17.774400",
     "exception": false,
     "start_time": "2025-04-08T10:49:16.258823",
     "status": "completed"
    },
    "tags": []
   },
   "outputs": [],
   "source": [
    "df2.to_csv(f'final_data_{len(df2)}.csv',index=False)"
   ]
  },
  {
   "cell_type": "code",
   "execution_count": 16,
   "id": "ca54d7a6",
   "metadata": {
    "execution": {
     "iopub.execute_input": "2025-04-08T10:49:20.829081Z",
     "iopub.status.busy": "2025-04-08T10:49:20.828691Z",
     "iopub.status.idle": "2025-04-08T10:49:20.839711Z",
     "shell.execute_reply": "2025-04-08T10:49:20.838570Z"
    },
    "papermill": {
     "duration": 1.546327,
     "end_time": "2025-04-08T10:49:20.841894",
     "exception": false,
     "start_time": "2025-04-08T10:49:19.295567",
     "status": "completed"
    },
    "tags": []
   },
   "outputs": [
    {
     "data": {
      "text/plain": [
       "0.08712992790305261"
      ]
     },
     "execution_count": 16,
     "metadata": {},
     "output_type": "execute_result"
    }
   ],
   "source": [
    "sum(df2['function'] == df2['expansion']) / len(df2)"
   ]
  },
  {
   "cell_type": "code",
   "execution_count": 17,
   "id": "3e2d73a7",
   "metadata": {
    "execution": {
     "iopub.execute_input": "2025-04-08T10:49:23.902345Z",
     "iopub.status.busy": "2025-04-08T10:49:23.901924Z",
     "iopub.status.idle": "2025-04-08T10:49:23.906386Z",
     "shell.execute_reply": "2025-04-08T10:49:23.905179Z"
    },
    "papermill": {
     "duration": 1.524347,
     "end_time": "2025-04-08T10:49:23.908090",
     "exception": false,
     "start_time": "2025-04-08T10:49:22.383743",
     "status": "completed"
    },
    "tags": []
   },
   "outputs": [],
   "source": [
    "# df_new = pd.DataFrame(columns=['function','expansion'])\n",
    "# pbar = tqdm(df.iterrows(), total = len(df),desc = f'size:')\n",
    "\n",
    "# for idx, row in pbar:\n",
    "#     pbar.set_description(f'{len(df_new)}')\n",
    "#     ifx = row['function']\n",
    "#     sifx = sympify(ifx).simplify()\n",
    "#     pfx = sympy_to_prefix(sifx)\n",
    "#     if len(sympify(row['expansion']).args) == 1 and sympify(row['expansion']).is_constant():\n",
    "#         continue\n",
    "#     try:\n",
    "#         ifx = str(prefix_to_sympy(pfx))\n",
    "#         df_new.loc[idx] = {'function':ifx, 'expansion':row['expansion']}\n",
    "#     except Exception as ex:\n",
    "#         print(row['prefix'], pfx, ifx, row['expansion'], ex)\n",
    "#         # break\n",
    "    \n",
    "# print(len(df_new))\n",
    "#     # pfx = row['prefix']\n",
    "#     # try:\n",
    "#     #     ifx = prefix_to_sympy(pfx)\n",
    "#     #     pfxx = sympy_to_prefix(sympify(ifx))\n",
    "#     # except Exception as ex:\n",
    "#     #     print(ex, pfx, ifx)\n",
    "#     #     break\n",
    "        "
   ]
  },
  {
   "cell_type": "code",
   "execution_count": 18,
   "id": "0d22c718",
   "metadata": {
    "execution": {
     "iopub.execute_input": "2025-04-08T10:49:26.951447Z",
     "iopub.status.busy": "2025-04-08T10:49:26.950885Z",
     "iopub.status.idle": "2025-04-08T10:49:26.955127Z",
     "shell.execute_reply": "2025-04-08T10:49:26.954194Z"
    },
    "papermill": {
     "duration": 1.531481,
     "end_time": "2025-04-08T10:49:26.956907",
     "exception": false,
     "start_time": "2025-04-08T10:49:25.425426",
     "status": "completed"
    },
    "tags": []
   },
   "outputs": [],
   "source": [
    "# df.iloc[0]['prefix']"
   ]
  },
  {
   "cell_type": "code",
   "execution_count": 19,
   "id": "2b3d5fb3",
   "metadata": {
    "execution": {
     "iopub.execute_input": "2025-04-08T10:49:29.931900Z",
     "iopub.status.busy": "2025-04-08T10:49:29.931382Z",
     "iopub.status.idle": "2025-04-08T10:49:29.935610Z",
     "shell.execute_reply": "2025-04-08T10:49:29.934433Z"
    },
    "papermill": {
     "duration": 1.450463,
     "end_time": "2025-04-08T10:49:29.937432",
     "exception": false,
     "start_time": "2025-04-08T10:49:28.486969",
     "status": "completed"
    },
    "tags": []
   },
   "outputs": [],
   "source": [
    "# prefix_to_sympy(sympy_to_prefix(sympify(df.iloc[0]['function']))).subs(data.x,0)"
   ]
  },
  {
   "cell_type": "code",
   "execution_count": 20,
   "id": "2fbf1f34",
   "metadata": {
    "execution": {
     "iopub.execute_input": "2025-04-08T10:49:33.087368Z",
     "iopub.status.busy": "2025-04-08T10:49:33.086927Z",
     "iopub.status.idle": "2025-04-08T10:49:33.091140Z",
     "shell.execute_reply": "2025-04-08T10:49:33.089860Z"
    },
    "papermill": {
     "duration": 1.577831,
     "end_time": "2025-04-08T10:49:33.092901",
     "exception": false,
     "start_time": "2025-04-08T10:49:31.515070",
     "status": "completed"
    },
    "tags": []
   },
   "outputs": [],
   "source": [
    "# sum(df['expansion'] == df['function']) / len(df)"
   ]
  },
  {
   "cell_type": "code",
   "execution_count": 21,
   "id": "48e04d89",
   "metadata": {
    "execution": {
     "iopub.execute_input": "2025-04-08T10:49:36.125529Z",
     "iopub.status.busy": "2025-04-08T10:49:36.125112Z",
     "iopub.status.idle": "2025-04-08T10:49:36.129236Z",
     "shell.execute_reply": "2025-04-08T10:49:36.128048Z"
    },
    "papermill": {
     "duration": 1.518357,
     "end_time": "2025-04-08T10:49:36.130983",
     "exception": false,
     "start_time": "2025-04-08T10:49:34.612626",
     "status": "completed"
    },
    "tags": []
   },
   "outputs": [],
   "source": [
    "# df.to_csv('taylor_expansion_5000.csv')"
   ]
  },
  {
   "cell_type": "code",
   "execution_count": 22,
   "id": "f211dd08",
   "metadata": {
    "execution": {
     "iopub.execute_input": "2025-04-08T10:49:39.176686Z",
     "iopub.status.busy": "2025-04-08T10:49:39.176256Z",
     "iopub.status.idle": "2025-04-08T10:49:39.180541Z",
     "shell.execute_reply": "2025-04-08T10:49:39.179498Z"
    },
    "papermill": {
     "duration": 1.52594,
     "end_time": "2025-04-08T10:49:39.182326",
     "exception": false,
     "start_time": "2025-04-08T10:49:37.656386",
     "status": "completed"
    },
    "tags": []
   },
   "outputs": [],
   "source": [
    "# prefix_to_sympy(sympy_to_prefix(sympify(df.iloc[0]['function'])))"
   ]
  },
  {
   "cell_type": "code",
   "execution_count": 23,
   "id": "9c6fc1fc",
   "metadata": {
    "execution": {
     "iopub.execute_input": "2025-04-08T10:49:42.254813Z",
     "iopub.status.busy": "2025-04-08T10:49:42.254266Z",
     "iopub.status.idle": "2025-04-08T10:49:42.258518Z",
     "shell.execute_reply": "2025-04-08T10:49:42.257538Z"
    },
    "papermill": {
     "duration": 1.557779,
     "end_time": "2025-04-08T10:49:42.260418",
     "exception": false,
     "start_time": "2025-04-08T10:49:40.702639",
     "status": "completed"
    },
    "tags": []
   },
   "outputs": [],
   "source": [
    "# prefix_to_sympy(sympy_to_prefix(sympify(df.iloc[0]['expansion'])))"
   ]
  },
  {
   "cell_type": "code",
   "execution_count": 24,
   "id": "17bfe9d5",
   "metadata": {
    "execution": {
     "iopub.execute_input": "2025-04-08T10:49:45.227828Z",
     "iopub.status.busy": "2025-04-08T10:49:45.227348Z",
     "iopub.status.idle": "2025-04-08T10:49:45.231522Z",
     "shell.execute_reply": "2025-04-08T10:49:45.230559Z"
    },
    "papermill": {
     "duration": 1.527522,
     "end_time": "2025-04-08T10:49:45.233036",
     "exception": false,
     "start_time": "2025-04-08T10:49:43.705514",
     "status": "completed"
    },
    "tags": []
   },
   "outputs": [],
   "source": [
    "# infix_to_prefix(df.iloc[0]['function']), df.iloc[0]['prefix']"
   ]
  },
  {
   "cell_type": "code",
   "execution_count": 25,
   "id": "b0d376b9",
   "metadata": {
    "execution": {
     "iopub.execute_input": "2025-04-08T10:49:48.271711Z",
     "iopub.status.busy": "2025-04-08T10:49:48.271327Z",
     "iopub.status.idle": "2025-04-08T10:49:48.275237Z",
     "shell.execute_reply": "2025-04-08T10:49:48.274347Z"
    },
    "papermill": {
     "duration": 1.525007,
     "end_time": "2025-04-08T10:49:48.276900",
     "exception": false,
     "start_time": "2025-04-08T10:49:46.751893",
     "status": "completed"
    },
    "tags": []
   },
   "outputs": [],
   "source": [
    "# df.to_csv('data.csv',index=False)"
   ]
  },
  {
   "cell_type": "code",
   "execution_count": 26,
   "id": "8db309bd",
   "metadata": {
    "execution": {
     "iopub.execute_input": "2025-04-08T10:49:51.360825Z",
     "iopub.status.busy": "2025-04-08T10:49:51.360420Z",
     "iopub.status.idle": "2025-04-08T10:49:51.365454Z",
     "shell.execute_reply": "2025-04-08T10:49:51.364082Z"
    },
    "papermill": {
     "duration": 1.572602,
     "end_time": "2025-04-08T10:49:51.367180",
     "exception": false,
     "start_time": "2025-04-08T10:49:49.794578",
     "status": "completed"
    },
    "tags": []
   },
   "outputs": [],
   "source": [
    "# import sympy as sp\n",
    "# def flatten(l, ltypes=(list, tuple)):\n",
    "#     \"\"\"\n",
    "#     flatten a python list\n",
    "#     from http://rightfootin.blogspot.com/2006/09/more-on-python-flatten.html\n",
    "#     \"\"\"\n",
    "#     ltype = type(l)\n",
    "#     l = list(l)\n",
    "#     i = 0\n",
    "#     while i < len(l):\n",
    "#         while isinstance(l[i], ltypes):\n",
    "#             if not l[i]:\n",
    "#                 l.pop(i)\n",
    "#                 i -= 1\n",
    "#                 break\n",
    "#             else:\n",
    "#                 l[i:i + 1] = l[i]\n",
    "#         i += 1\n",
    "#     return ltype(l)\n",
    "\n",
    "# def sympy_to_prefix_rec(expression, ret):\n",
    "#     \"\"\"\n",
    "#     Recursively go from a sympy expression to a prefix notation.\n",
    "#     The operators all get converted to their names in the array `operators`.\n",
    "#     Returns a nested list, where the nesting basically stands for parentheses.\n",
    "#     Since in prefix notation with a fixed number of arguments for each function (given in `operators_nargs`),\n",
    "#     parentheses are not needed, we can flatten the list later.\n",
    "#     \"\"\"\n",
    "#     if expression in [sp.core.numbers.Pi, sp.core.numbers.ImaginaryUnit]:\n",
    "#         f = expression\n",
    "#     else:\n",
    "#         f = expression.func\n",
    "#     if f in atoms:\n",
    "#         if type(expression) in numbers_types:\n",
    "#             return ret + format_number(expression)\n",
    "#         return ret + [str(expression)]\n",
    "#     f_str = operators[f]\n",
    "#     f_nargs = operators_nargs[f_str]\n",
    "#     args = expression.args\n",
    "#     if len(args) == 1 & f_nargs == 1:\n",
    "#         ret = ret + [f_str]\n",
    "#         return sympy_to_prefix_rec(args[0], ret)\n",
    "#     if len(args) == 2:\n",
    "#         ret = ret + [f_str, sympy_to_prefix_rec(args[0], []), sympy_to_prefix_rec(args[1], [])]\n",
    "#     if len(args) > 2:\n",
    "#         args = list(map(lambda x: sympy_to_prefix_rec(x, []), args))\n",
    "#         ret = ret + repeat_operator_until_correct_binary(f_str, args)\n",
    "#     return ret\n",
    "\n",
    "# def sympy_to_prefix(expression):\n",
    "#     \"\"\"\n",
    "#     Recursively go from a sympy expression to a prefix notation.\n",
    "#     Returns a flat list of tokens.\n",
    "#     \"\"\"\n",
    "#     return flatten(sympy_to_prefix_rec(expression, []))"
   ]
  },
  {
   "cell_type": "code",
   "execution_count": 27,
   "id": "fa7c7aff",
   "metadata": {
    "execution": {
     "iopub.execute_input": "2025-04-08T10:49:54.403701Z",
     "iopub.status.busy": "2025-04-08T10:49:54.403332Z",
     "iopub.status.idle": "2025-04-08T10:49:54.407157Z",
     "shell.execute_reply": "2025-04-08T10:49:54.406126Z"
    },
    "papermill": {
     "duration": 1.523118,
     "end_time": "2025-04-08T10:49:54.409167",
     "exception": false,
     "start_time": "2025-04-08T10:49:52.886049",
     "status": "completed"
    },
    "tags": []
   },
   "outputs": [],
   "source": [
    "# sympy_to_prefix(sympify(df.iloc[0]['function']))"
   ]
  },
  {
   "cell_type": "code",
   "execution_count": 28,
   "id": "42dd4f05",
   "metadata": {
    "execution": {
     "iopub.execute_input": "2025-04-08T10:49:57.366528Z",
     "iopub.status.busy": "2025-04-08T10:49:57.366102Z",
     "iopub.status.idle": "2025-04-08T10:49:57.370282Z",
     "shell.execute_reply": "2025-04-08T10:49:57.369116Z"
    },
    "papermill": {
     "duration": 1.444995,
     "end_time": "2025-04-08T10:49:57.372325",
     "exception": false,
     "start_time": "2025-04-08T10:49:55.927330",
     "status": "completed"
    },
    "tags": []
   },
   "outputs": [],
   "source": [
    "# df"
   ]
  },
  {
   "cell_type": "code",
   "execution_count": 29,
   "id": "6cf6850c",
   "metadata": {
    "execution": {
     "iopub.execute_input": "2025-04-08T10:50:00.417855Z",
     "iopub.status.busy": "2025-04-08T10:50:00.417492Z",
     "iopub.status.idle": "2025-04-08T10:50:00.422135Z",
     "shell.execute_reply": "2025-04-08T10:50:00.420955Z"
    },
    "papermill": {
     "duration": 1.535883,
     "end_time": "2025-04-08T10:50:00.423975",
     "exception": false,
     "start_time": "2025-04-08T10:49:58.888092",
     "status": "completed"
    },
    "tags": []
   },
   "outputs": [],
   "source": [
    "# print(len(df))"
   ]
  },
  {
   "cell_type": "code",
   "execution_count": 30,
   "id": "e7397428",
   "metadata": {
    "execution": {
     "iopub.execute_input": "2025-04-08T10:50:03.524157Z",
     "iopub.status.busy": "2025-04-08T10:50:03.523774Z",
     "iopub.status.idle": "2025-04-08T10:50:03.528385Z",
     "shell.execute_reply": "2025-04-08T10:50:03.527328Z"
    },
    "papermill": {
     "duration": 1.545267,
     "end_time": "2025-04-08T10:50:03.530399",
     "exception": false,
     "start_time": "2025-04-08T10:50:01.985132",
     "status": "completed"
    },
    "tags": []
   },
   "outputs": [],
   "source": [
    "# exp_gen = ExpressionGenerator(CFG.max_num_ops, np.random.default_rng(), ['x'])\n",
    "# num_operations = exp_gen.rng.integers(1, CFG.max_num_ops + 1)"
   ]
  },
  {
   "cell_type": "code",
   "execution_count": 31,
   "id": "4f038a4b",
   "metadata": {
    "execution": {
     "iopub.execute_input": "2025-04-08T10:50:06.630527Z",
     "iopub.status.busy": "2025-04-08T10:50:06.629960Z",
     "iopub.status.idle": "2025-04-08T10:50:06.634507Z",
     "shell.execute_reply": "2025-04-08T10:50:06.633392Z"
    },
    "papermill": {
     "duration": 1.52566,
     "end_time": "2025-04-08T10:50:06.636457",
     "exception": false,
     "start_time": "2025-04-08T10:50:05.110797",
     "status": "completed"
    },
    "tags": []
   },
   "outputs": [],
   "source": [
    "# exprs = []\n",
    "# taylor_exprs = []\n",
    "\n",
    "# pbar = tqdm(range(CFG.data_size*4))\n",
    "# for i in pbar:\n",
    "#     prefix = exp_gen.generate_expr(num_operations, CFG.max_integer)\n",
    "#     infix = expand(exp_gen.infix(prefix))\n",
    "#     x = Symbol('x')\n",
    "    \n",
    "#     t_expan = get_taylor_series(sympify(infix), Symbol('x'))\n",
    "#     coeff = [t_expan.coeff(x,_) for _ in range(5)]\n",
    "    \n",
    "#     if len(t_expan.args)>1 and sum([im(_)!=0 for _ in coeff]) == 0:\n",
    "#         exprs.append(infix)\n",
    "#         taylor_exprs.append(t_expan)\n",
    "#     pbar.set_postfix({'num_seq': len(taylor_exprs)})\n",
    "\n",
    "#     if len(taylor_exprs) == CFG.data_size:\n",
    "#         break"
   ]
  },
  {
   "cell_type": "code",
   "execution_count": 32,
   "id": "49eb7c57",
   "metadata": {
    "execution": {
     "iopub.execute_input": "2025-04-08T10:50:09.706053Z",
     "iopub.status.busy": "2025-04-08T10:50:09.705696Z",
     "iopub.status.idle": "2025-04-08T10:50:09.709776Z",
     "shell.execute_reply": "2025-04-08T10:50:09.708690Z"
    },
    "papermill": {
     "duration": 1.551081,
     "end_time": "2025-04-08T10:50:09.711504",
     "exception": false,
     "start_time": "2025-04-08T10:50:08.160423",
     "status": "completed"
    },
    "tags": []
   },
   "outputs": [],
   "source": [
    "# print([[sympy.im(_.coeff(x,__))!=0 for __ in range(5)] for _ in taylor_exprs])"
   ]
  },
  {
   "cell_type": "code",
   "execution_count": 33,
   "id": "ad17403f",
   "metadata": {
    "execution": {
     "iopub.execute_input": "2025-04-08T10:50:12.706325Z",
     "iopub.status.busy": "2025-04-08T10:50:12.705940Z",
     "iopub.status.idle": "2025-04-08T10:50:12.709978Z",
     "shell.execute_reply": "2025-04-08T10:50:12.708840Z"
    },
    "papermill": {
     "duration": 1.526258,
     "end_time": "2025-04-08T10:50:12.711630",
     "exception": false,
     "start_time": "2025-04-08T10:50:11.185372",
     "status": "completed"
    },
    "tags": []
   },
   "outputs": [],
   "source": [
    "# co = []\n",
    "# for i in tqdm(range(CFG.data_size*4)):\n",
    "#     co.append(len(taylor_exprs[i].args))"
   ]
  },
  {
   "cell_type": "code",
   "execution_count": 34,
   "id": "ac868003",
   "metadata": {
    "execution": {
     "iopub.execute_input": "2025-04-08T10:50:15.752239Z",
     "iopub.status.busy": "2025-04-08T10:50:15.751881Z",
     "iopub.status.idle": "2025-04-08T10:50:15.755809Z",
     "shell.execute_reply": "2025-04-08T10:50:15.754839Z"
    },
    "papermill": {
     "duration": 1.523347,
     "end_time": "2025-04-08T10:50:15.757792",
     "exception": false,
     "start_time": "2025-04-08T10:50:14.234445",
     "status": "completed"
    },
    "tags": []
   },
   "outputs": [],
   "source": [
    "# df = pd.DataFrame(columns=['expression', 'taylor expansion', 'coefficients'])\n",
    "\n",
    "# for i, (expr, taylor) in tqdm(enumerate(zip(exprs, taylor_exprs)), total=len(exprs)):\n",
    "    \n",
    "#     coeff = [taylor.coeff(x,_) for _ in range(5)]\n",
    "#     df.loc[i] = {'expression': expand(expr), 'taylor expansion': taylor, 'coefficients': coeff}"
   ]
  },
  {
   "cell_type": "code",
   "execution_count": 35,
   "id": "5716990a",
   "metadata": {
    "execution": {
     "iopub.execute_input": "2025-04-08T10:50:18.796913Z",
     "iopub.status.busy": "2025-04-08T10:50:18.796540Z",
     "iopub.status.idle": "2025-04-08T10:50:18.800653Z",
     "shell.execute_reply": "2025-04-08T10:50:18.799445Z"
    },
    "papermill": {
     "duration": 1.524514,
     "end_time": "2025-04-08T10:50:18.802341",
     "exception": false,
     "start_time": "2025-04-08T10:50:17.277827",
     "status": "completed"
    },
    "tags": []
   },
   "outputs": [],
   "source": [
    "# df.to_csv('dataset.csv')"
   ]
  },
  {
   "cell_type": "code",
   "execution_count": 36,
   "id": "00f04c94",
   "metadata": {
    "execution": {
     "iopub.execute_input": "2025-04-08T10:50:21.875797Z",
     "iopub.status.busy": "2025-04-08T10:50:21.875391Z",
     "iopub.status.idle": "2025-04-08T10:50:21.879700Z",
     "shell.execute_reply": "2025-04-08T10:50:21.878445Z"
    },
    "papermill": {
     "duration": 1.556974,
     "end_time": "2025-04-08T10:50:21.881701",
     "exception": false,
     "start_time": "2025-04-08T10:50:20.324727",
     "status": "completed"
    },
    "tags": []
   },
   "outputs": [],
   "source": [
    "# df"
   ]
  },
  {
   "cell_type": "code",
   "execution_count": 37,
   "id": "87682b87",
   "metadata": {
    "execution": {
     "iopub.execute_input": "2025-04-08T10:50:24.838964Z",
     "iopub.status.busy": "2025-04-08T10:50:24.838607Z",
     "iopub.status.idle": "2025-04-08T10:50:24.842865Z",
     "shell.execute_reply": "2025-04-08T10:50:24.841734Z"
    },
    "papermill": {
     "duration": 1.441601,
     "end_time": "2025-04-08T10:50:24.844788",
     "exception": false,
     "start_time": "2025-04-08T10:50:23.403187",
     "status": "completed"
    },
    "tags": []
   },
   "outputs": [],
   "source": [
    "# vocab = \"\"\"\n",
    "# <pad>\n",
    "# <bos>\n",
    "\n",
    "# <eos>\n",
    "# \"\"\""
   ]
  },
  {
   "cell_type": "code",
   "execution_count": null,
   "id": "15a9ca24",
   "metadata": {
    "papermill": {
     "duration": 1.506953,
     "end_time": "2025-04-08T10:50:27.866689",
     "exception": false,
     "start_time": "2025-04-08T10:50:26.359736",
     "status": "completed"
    },
    "tags": []
   },
   "outputs": [],
   "source": []
  }
 ],
 "metadata": {
  "kaggle": {
   "accelerator": "none",
   "dataSources": [
    {
     "datasetId": 7047223,
     "sourceId": 11273170,
     "sourceType": "datasetVersion"
    }
   ],
   "dockerImageVersionId": 30918,
   "isGpuEnabled": false,
   "isInternetEnabled": true,
   "language": "python",
   "sourceType": "notebook"
  },
  "kernelspec": {
   "display_name": "Python 3",
   "language": "python",
   "name": "python3"
  },
  "language_info": {
   "codemirror_mode": {
    "name": "ipython",
    "version": 3
   },
   "file_extension": ".py",
   "mimetype": "text/x-python",
   "name": "python",
   "nbconvert_exporter": "python",
   "pygments_lexer": "ipython3",
   "version": "3.10.12"
  },
  "papermill": {
   "default_parameters": {},
   "duration": 5329.566835,
   "end_time": "2025-04-08T10:50:32.270740",
   "environment_variables": {},
   "exception": null,
   "input_path": "__notebook__.ipynb",
   "output_path": "__notebook__.ipynb",
   "parameters": {},
   "start_time": "2025-04-08T09:21:42.703905",
   "version": "2.6.0"
  }
 },
 "nbformat": 4,
 "nbformat_minor": 5
}
